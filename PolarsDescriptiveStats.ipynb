{
 "cells": [
  {
   "cell_type": "code",
   "execution_count": 1,
   "id": "d699774e-f5ab-4288-9623-81352fe46289",
   "metadata": {},
   "outputs": [],
   "source": [
    "import polars as pl\n",
    "import matplotlib.pyplot as plt"
   ]
  },
  {
   "cell_type": "markdown",
   "id": "2cef927f",
   "metadata": {},
   "source": [
    "## Exploring a dataset of Netflix Movies and TV Shows \n",
    "In this notebook, I will explore [a dataset from Kaggle on Netflix movies and shows](https://www.kaggle.com/datasets/shivamb/netflix-shows?resource=download). I am interested in trends of movies and shows over time, specifically whether movie and TV show ratings have matured as we have switched to online streaming platforms instead of traditional cable TV. "
   ]
  },
  {
   "cell_type": "code",
   "execution_count": 2,
   "id": "4352e724-8b11-40f1-b623-eeee8ca0c0d6",
   "metadata": {},
   "outputs": [],
   "source": [
    "data = pl.read_csv(\"netflix_titles.csv\")  # reading in the data"
   ]
  },
  {
   "cell_type": "code",
   "execution_count": 3,
   "id": "1ac7bf38-1ed6-429c-92b7-180e21d4d6b1",
   "metadata": {},
   "outputs": [
    {
     "data": {
      "text/html": [
       "<div><style>\n",
       ".dataframe > thead > tr,\n",
       ".dataframe > tbody > tr {\n",
       "  text-align: right;\n",
       "  white-space: pre-wrap;\n",
       "}\n",
       "</style>\n",
       "<small>shape: (5, 12)</small><table border=\"1\" class=\"dataframe\"><thead><tr><th>show_id</th><th>type</th><th>title</th><th>director</th><th>cast</th><th>country</th><th>date_added</th><th>release_year</th><th>rating</th><th>duration</th><th>listed_in</th><th>description</th></tr><tr><td>str</td><td>str</td><td>str</td><td>str</td><td>str</td><td>str</td><td>str</td><td>i64</td><td>str</td><td>str</td><td>str</td><td>str</td></tr></thead><tbody><tr><td>&quot;s1&quot;</td><td>&quot;Movie&quot;</td><td>&quot;Dick Johnson Is Dead&quot;</td><td>&quot;Kirsten Johnson&quot;</td><td>null</td><td>&quot;United States&quot;</td><td>&quot;September 25, 2021&quot;</td><td>2020</td><td>&quot;PG-13&quot;</td><td>&quot;90 min&quot;</td><td>&quot;Documentaries&quot;</td><td>&quot;As her father nears the end of…</td></tr><tr><td>&quot;s2&quot;</td><td>&quot;TV Show&quot;</td><td>&quot;Blood &amp; Water&quot;</td><td>null</td><td>&quot;Ama Qamata, Khosi Ngema, Gail …</td><td>&quot;South Africa&quot;</td><td>&quot;September 24, 2021&quot;</td><td>2021</td><td>&quot;TV-MA&quot;</td><td>&quot;2 Seasons&quot;</td><td>&quot;International TV Shows, TV Dra…</td><td>&quot;After crossing paths at a part…</td></tr><tr><td>&quot;s3&quot;</td><td>&quot;TV Show&quot;</td><td>&quot;Ganglands&quot;</td><td>&quot;Julien Leclercq&quot;</td><td>&quot;Sami Bouajila, Tracy Gotoas, S…</td><td>null</td><td>&quot;September 24, 2021&quot;</td><td>2021</td><td>&quot;TV-MA&quot;</td><td>&quot;1 Season&quot;</td><td>&quot;Crime TV Shows, International …</td><td>&quot;To protect his family from a p…</td></tr><tr><td>&quot;s4&quot;</td><td>&quot;TV Show&quot;</td><td>&quot;Jailbirds New Orleans&quot;</td><td>null</td><td>null</td><td>null</td><td>&quot;September 24, 2021&quot;</td><td>2021</td><td>&quot;TV-MA&quot;</td><td>&quot;1 Season&quot;</td><td>&quot;Docuseries, Reality TV&quot;</td><td>&quot;Feuds, flirtations and toilet …</td></tr><tr><td>&quot;s5&quot;</td><td>&quot;TV Show&quot;</td><td>&quot;Kota Factory&quot;</td><td>null</td><td>&quot;Mayur More, Jitendra Kumar, Ra…</td><td>&quot;India&quot;</td><td>&quot;September 24, 2021&quot;</td><td>2021</td><td>&quot;TV-MA&quot;</td><td>&quot;2 Seasons&quot;</td><td>&quot;International TV Shows, Romant…</td><td>&quot;In a city of coaching centers …</td></tr></tbody></table></div>"
      ],
      "text/plain": [
       "shape: (5, 12)\n",
       "┌─────────┬─────────┬─────────────┬─────────────┬───┬────────┬───────────┬────────────┬────────────┐\n",
       "│ show_id ┆ type    ┆ title       ┆ director    ┆ … ┆ rating ┆ duration  ┆ listed_in  ┆ descriptio │\n",
       "│ ---     ┆ ---     ┆ ---         ┆ ---         ┆   ┆ ---    ┆ ---       ┆ ---        ┆ n          │\n",
       "│ str     ┆ str     ┆ str         ┆ str         ┆   ┆ str    ┆ str       ┆ str        ┆ ---        │\n",
       "│         ┆         ┆             ┆             ┆   ┆        ┆           ┆            ┆ str        │\n",
       "╞═════════╪═════════╪═════════════╪═════════════╪═══╪════════╪═══════════╪════════════╪════════════╡\n",
       "│ s1      ┆ Movie   ┆ Dick        ┆ Kirsten     ┆ … ┆ PG-13  ┆ 90 min    ┆ Documentar ┆ As her     │\n",
       "│         ┆         ┆ Johnson Is  ┆ Johnson     ┆   ┆        ┆           ┆ ies        ┆ father     │\n",
       "│         ┆         ┆ Dead        ┆             ┆   ┆        ┆           ┆            ┆ nears the  │\n",
       "│         ┆         ┆             ┆             ┆   ┆        ┆           ┆            ┆ end of…    │\n",
       "│ s2      ┆ TV Show ┆ Blood &     ┆ null        ┆ … ┆ TV-MA  ┆ 2 Seasons ┆ Internatio ┆ After      │\n",
       "│         ┆         ┆ Water       ┆             ┆   ┆        ┆           ┆ nal TV     ┆ crossing   │\n",
       "│         ┆         ┆             ┆             ┆   ┆        ┆           ┆ Shows, TV  ┆ paths at a │\n",
       "│         ┆         ┆             ┆             ┆   ┆        ┆           ┆ Dra…       ┆ part…      │\n",
       "│ s3      ┆ TV Show ┆ Ganglands   ┆ Julien      ┆ … ┆ TV-MA  ┆ 1 Season  ┆ Crime TV   ┆ To protect │\n",
       "│         ┆         ┆             ┆ Leclercq    ┆   ┆        ┆           ┆ Shows, Int ┆ his family │\n",
       "│         ┆         ┆             ┆             ┆   ┆        ┆           ┆ ernational ┆ from a p…  │\n",
       "│         ┆         ┆             ┆             ┆   ┆        ┆           ┆ …          ┆            │\n",
       "│ s4      ┆ TV Show ┆ Jailbirds   ┆ null        ┆ … ┆ TV-MA  ┆ 1 Season  ┆ Docuseries ┆ Feuds, fli │\n",
       "│         ┆         ┆ New Orleans ┆             ┆   ┆        ┆           ┆ , Reality  ┆ rtations   │\n",
       "│         ┆         ┆             ┆             ┆   ┆        ┆           ┆ TV         ┆ and toilet │\n",
       "│         ┆         ┆             ┆             ┆   ┆        ┆           ┆            ┆ …          │\n",
       "│ s5      ┆ TV Show ┆ Kota        ┆ null        ┆ … ┆ TV-MA  ┆ 2 Seasons ┆ Internatio ┆ In a city  │\n",
       "│         ┆         ┆ Factory     ┆             ┆   ┆        ┆           ┆ nal TV     ┆ of         │\n",
       "│         ┆         ┆             ┆             ┆   ┆        ┆           ┆ Shows,     ┆ coaching   │\n",
       "│         ┆         ┆             ┆             ┆   ┆        ┆           ┆ Romant…    ┆ centers …  │\n",
       "└─────────┴─────────┴─────────────┴─────────────┴───┴────────┴───────────┴────────────┴────────────┘"
      ]
     },
     "execution_count": 3,
     "metadata": {},
     "output_type": "execute_result"
    }
   ],
   "source": [
    "data.head()  # checking columns and looking into the dataset"
   ]
  },
  {
   "cell_type": "code",
   "execution_count": 4,
   "id": "798fbe9e-2ca9-447f-8b71-754843abf30f",
   "metadata": {},
   "outputs": [
    {
     "data": {
      "text/plain": [
       "(8807, 12)"
      ]
     },
     "execution_count": 4,
     "metadata": {},
     "output_type": "execute_result"
    }
   ],
   "source": [
    "data.shape  # understanding the shape of the data"
   ]
  },
  {
   "cell_type": "markdown",
   "id": "3abbbcb4",
   "metadata": {},
   "source": [
    "### Generating Summary Statistics of Release Year:"
   ]
  },
  {
   "cell_type": "code",
   "execution_count": 5,
   "id": "1c66c775-9df8-40af-82d4-8c0e72bfdb3a",
   "metadata": {},
   "outputs": [
    {
     "data": {
      "text/plain": [
       "2014.1801975701146"
      ]
     },
     "execution_count": 5,
     "metadata": {},
     "output_type": "execute_result"
    }
   ],
   "source": [
    "data[\"release_year\"].mean()"
   ]
  },
  {
   "cell_type": "code",
   "execution_count": 6,
   "id": "44d90f05-c012-4079-8ea5-a0a122be2f40",
   "metadata": {},
   "outputs": [
    {
     "data": {
      "text/plain": [
       "8.819312130833968"
      ]
     },
     "execution_count": 6,
     "metadata": {},
     "output_type": "execute_result"
    }
   ],
   "source": [
    "data[\"release_year\"].std()"
   ]
  },
  {
   "cell_type": "markdown",
   "id": "f9bf8468",
   "metadata": {},
   "source": [
    "***Release Year information***  \n",
    "  \n",
    "The mean release year of movies and TV shows is **2014** while the median is **2017**. The earliest piece of entertainment is **1925** and the latest that this dataset includes is **2021**. "
   ]
  },
  {
   "cell_type": "code",
   "execution_count": 7,
   "id": "7abef1a7",
   "metadata": {},
   "outputs": [
    {
     "data": {
      "text/html": [
       "<div><style>\n",
       ".dataframe > thead > tr,\n",
       ".dataframe > tbody > tr {\n",
       "  text-align: right;\n",
       "  white-space: pre-wrap;\n",
       "}\n",
       "</style>\n",
       "<small>shape: (9, 2)</small><table border=\"1\" class=\"dataframe\"><thead><tr><th>statistic</th><th>value</th></tr><tr><td>str</td><td>f64</td></tr></thead><tbody><tr><td>&quot;count&quot;</td><td>8807.0</td></tr><tr><td>&quot;null_count&quot;</td><td>0.0</td></tr><tr><td>&quot;mean&quot;</td><td>2014.180198</td></tr><tr><td>&quot;std&quot;</td><td>8.819312</td></tr><tr><td>&quot;min&quot;</td><td>1925.0</td></tr><tr><td>&quot;25%&quot;</td><td>2013.0</td></tr><tr><td>&quot;50%&quot;</td><td>2017.0</td></tr><tr><td>&quot;75%&quot;</td><td>2019.0</td></tr><tr><td>&quot;max&quot;</td><td>2021.0</td></tr></tbody></table></div>"
      ],
      "text/plain": [
       "shape: (9, 2)\n",
       "┌────────────┬─────────────┐\n",
       "│ statistic  ┆ value       │\n",
       "│ ---        ┆ ---         │\n",
       "│ str        ┆ f64         │\n",
       "╞════════════╪═════════════╡\n",
       "│ count      ┆ 8807.0      │\n",
       "│ null_count ┆ 0.0         │\n",
       "│ mean       ┆ 2014.180198 │\n",
       "│ std        ┆ 8.819312    │\n",
       "│ min        ┆ 1925.0      │\n",
       "│ 25%        ┆ 2013.0      │\n",
       "│ 50%        ┆ 2017.0      │\n",
       "│ 75%        ┆ 2019.0      │\n",
       "│ max        ┆ 2021.0      │\n",
       "└────────────┴─────────────┘"
      ]
     },
     "execution_count": 7,
     "metadata": {},
     "output_type": "execute_result"
    }
   ],
   "source": [
    "data[\"release_year\"].describe()"
   ]
  },
  {
   "cell_type": "markdown",
   "id": "299583fb",
   "metadata": {},
   "source": [
    "*Rating Types*  \n",
    "I decided to see what categories of ratings exist in the dataset and noticed that there were a few that seemed to not be ratings - '74 min', '84 min', and '66 min', with counts of only 1.  \n",
    "  \n",
    "\n",
    "  I decided to remove these values from the entire dataset because there were also only 1 of each in the entire dataset and they seemed like mistakes. "
   ]
  },
  {
   "cell_type": "code",
   "execution_count": 8,
   "id": "c2d41a8c-80ca-421e-b0fd-2927a6884a61",
   "metadata": {},
   "outputs": [
    {
     "data": {
      "text/html": [
       "<div><style>\n",
       ".dataframe > thead > tr,\n",
       ".dataframe > tbody > tr {\n",
       "  text-align: right;\n",
       "  white-space: pre-wrap;\n",
       "}\n",
       "</style>\n",
       "<small>shape: (18, 2)</small><table border=\"1\" class=\"dataframe\"><thead><tr><th>rating</th><th>count</th></tr><tr><td>str</td><td>u32</td></tr></thead><tbody><tr><td>&quot;84 min&quot;</td><td>1</td></tr><tr><td>&quot;G&quot;</td><td>41</td></tr><tr><td>&quot;TV-MA&quot;</td><td>3207</td></tr><tr><td>&quot;PG-13&quot;</td><td>490</td></tr><tr><td>&quot;NC-17&quot;</td><td>3</td></tr><tr><td>&hellip;</td><td>&hellip;</td></tr><tr><td>null</td><td>4</td></tr><tr><td>&quot;PG&quot;</td><td>287</td></tr><tr><td>&quot;66 min&quot;</td><td>1</td></tr><tr><td>&quot;TV-G&quot;</td><td>220</td></tr><tr><td>&quot;TV-PG&quot;</td><td>863</td></tr></tbody></table></div>"
      ],
      "text/plain": [
       "shape: (18, 2)\n",
       "┌────────┬───────┐\n",
       "│ rating ┆ count │\n",
       "│ ---    ┆ ---   │\n",
       "│ str    ┆ u32   │\n",
       "╞════════╪═══════╡\n",
       "│ 84 min ┆ 1     │\n",
       "│ G      ┆ 41    │\n",
       "│ TV-MA  ┆ 3207  │\n",
       "│ PG-13  ┆ 490   │\n",
       "│ NC-17  ┆ 3     │\n",
       "│ …      ┆ …     │\n",
       "│ null   ┆ 4     │\n",
       "│ PG     ┆ 287   │\n",
       "│ 66 min ┆ 1     │\n",
       "│ TV-G   ┆ 220   │\n",
       "│ TV-PG  ┆ 863   │\n",
       "└────────┴───────┘"
      ]
     },
     "execution_count": 8,
     "metadata": {},
     "output_type": "execute_result"
    }
   ],
   "source": [
    "data[\"rating\"].value_counts()"
   ]
  },
  {
   "cell_type": "code",
   "execution_count": 9,
   "id": "c9af6fc3-70d0-41d0-b0a7-c45e94e894b1",
   "metadata": {},
   "outputs": [],
   "source": [
    "data = data.filter(pl.col(\"rating\") != \"74 min\")"
   ]
  },
  {
   "cell_type": "code",
   "execution_count": 10,
   "id": "c3fc2dec-4e42-4a2f-832f-83c5e0765596",
   "metadata": {},
   "outputs": [],
   "source": [
    "data = data.filter(pl.col(\"rating\") != \"84 min\")"
   ]
  },
  {
   "cell_type": "code",
   "execution_count": 11,
   "id": "1357cd53-8761-4f05-ac2b-cae493d7982b",
   "metadata": {},
   "outputs": [],
   "source": [
    "data = data.filter(pl.col(\"rating\") != \"66 min\")"
   ]
  },
  {
   "cell_type": "code",
   "execution_count": 12,
   "id": "df854070-92c7-4dbc-8c1c-fb6f1a6bceb9",
   "metadata": {},
   "outputs": [
    {
     "data": {
      "text/html": [
       "<div><style>\n",
       ".dataframe > thead > tr,\n",
       ".dataframe > tbody > tr {\n",
       "  text-align: right;\n",
       "  white-space: pre-wrap;\n",
       "}\n",
       "</style>\n",
       "<small>shape: (14, 2)</small><table border=\"1\" class=\"dataframe\"><thead><tr><th>rating</th><th>count</th></tr><tr><td>str</td><td>u32</td></tr></thead><tbody><tr><td>&quot;TV-Y&quot;</td><td>307</td></tr><tr><td>&quot;NR&quot;</td><td>80</td></tr><tr><td>&quot;TV-14&quot;</td><td>2160</td></tr><tr><td>&quot;TV-MA&quot;</td><td>3207</td></tr><tr><td>&quot;TV-Y7&quot;</td><td>334</td></tr><tr><td>&hellip;</td><td>&hellip;</td></tr><tr><td>&quot;G&quot;</td><td>41</td></tr><tr><td>&quot;NC-17&quot;</td><td>3</td></tr><tr><td>&quot;PG&quot;</td><td>287</td></tr><tr><td>&quot;UR&quot;</td><td>3</td></tr><tr><td>&quot;TV-Y7-FV&quot;</td><td>6</td></tr></tbody></table></div>"
      ],
      "text/plain": [
       "shape: (14, 2)\n",
       "┌──────────┬───────┐\n",
       "│ rating   ┆ count │\n",
       "│ ---      ┆ ---   │\n",
       "│ str      ┆ u32   │\n",
       "╞══════════╪═══════╡\n",
       "│ TV-Y     ┆ 307   │\n",
       "│ NR       ┆ 80    │\n",
       "│ TV-14    ┆ 2160  │\n",
       "│ TV-MA    ┆ 3207  │\n",
       "│ TV-Y7    ┆ 334   │\n",
       "│ …        ┆ …     │\n",
       "│ G        ┆ 41    │\n",
       "│ NC-17    ┆ 3     │\n",
       "│ PG       ┆ 287   │\n",
       "│ UR       ┆ 3     │\n",
       "│ TV-Y7-FV ┆ 6     │\n",
       "└──────────┴───────┘"
      ]
     },
     "execution_count": 12,
     "metadata": {},
     "output_type": "execute_result"
    }
   ],
   "source": [
    "data[\"rating\"].value_counts()  # removed the ratings that seemed to be mistakes"
   ]
  },
  {
   "cell_type": "markdown",
   "id": "19c4fc9c",
   "metadata": {},
   "source": [
    "***Movies***  \n",
    "  \n",
    "  I decided to look specifically at movies, so I created a dataframe of just the movies."
   ]
  },
  {
   "cell_type": "code",
   "execution_count": 13,
   "id": "b43b3f57-d198-4df1-b2c6-2f084a725404",
   "metadata": {},
   "outputs": [],
   "source": [
    "movies = data.filter(pl.col(\"type\") == \"Movie\")"
   ]
  },
  {
   "cell_type": "code",
   "execution_count": 14,
   "id": "32b45b2b-f657-43f8-8ad7-51f61a2b5e63",
   "metadata": {},
   "outputs": [
    {
     "data": {
      "text/html": [
       "<div><style>\n",
       ".dataframe > thead > tr,\n",
       ".dataframe > tbody > tr {\n",
       "  text-align: right;\n",
       "  white-space: pre-wrap;\n",
       "}\n",
       "</style>\n",
       "<small>shape: (5, 12)</small><table border=\"1\" class=\"dataframe\"><thead><tr><th>show_id</th><th>type</th><th>title</th><th>director</th><th>cast</th><th>country</th><th>date_added</th><th>release_year</th><th>rating</th><th>duration</th><th>listed_in</th><th>description</th></tr><tr><td>str</td><td>str</td><td>str</td><td>str</td><td>str</td><td>str</td><td>str</td><td>i64</td><td>str</td><td>str</td><td>str</td><td>str</td></tr></thead><tbody><tr><td>&quot;s1&quot;</td><td>&quot;Movie&quot;</td><td>&quot;Dick Johnson Is Dead&quot;</td><td>&quot;Kirsten Johnson&quot;</td><td>null</td><td>&quot;United States&quot;</td><td>&quot;September 25, 2021&quot;</td><td>2020</td><td>&quot;PG-13&quot;</td><td>&quot;90 min&quot;</td><td>&quot;Documentaries&quot;</td><td>&quot;As her father nears the end of…</td></tr><tr><td>&quot;s7&quot;</td><td>&quot;Movie&quot;</td><td>&quot;My Little Pony: A New Generati…</td><td>&quot;Robert Cullen, José Luis Ucha&quot;</td><td>&quot;Vanessa Hudgens, Kimiko Glenn,…</td><td>null</td><td>&quot;September 24, 2021&quot;</td><td>2021</td><td>&quot;PG&quot;</td><td>&quot;91 min&quot;</td><td>&quot;Children &amp; Family Movies&quot;</td><td>&quot;Equestria&#x27;s divided. But a bri…</td></tr><tr><td>&quot;s8&quot;</td><td>&quot;Movie&quot;</td><td>&quot;Sankofa&quot;</td><td>&quot;Haile Gerima&quot;</td><td>&quot;Kofi Ghanaba, Oyafunmike Ogunl…</td><td>&quot;United States, Ghana, Burkina …</td><td>&quot;September 24, 2021&quot;</td><td>1993</td><td>&quot;TV-MA&quot;</td><td>&quot;125 min&quot;</td><td>&quot;Dramas, Independent Movies, In…</td><td>&quot;On a photo shoot in Ghana, an …</td></tr><tr><td>&quot;s10&quot;</td><td>&quot;Movie&quot;</td><td>&quot;The Starling&quot;</td><td>&quot;Theodore Melfi&quot;</td><td>&quot;Melissa McCarthy, Chris O&#x27;Dowd…</td><td>&quot;United States&quot;</td><td>&quot;September 24, 2021&quot;</td><td>2021</td><td>&quot;PG-13&quot;</td><td>&quot;104 min&quot;</td><td>&quot;Comedies, Dramas&quot;</td><td>&quot;A woman adjusting to life afte…</td></tr><tr><td>&quot;s13&quot;</td><td>&quot;Movie&quot;</td><td>&quot;Je Suis Karl&quot;</td><td>&quot;Christian Schwochow&quot;</td><td>&quot;Luna Wedler, Jannis Niewöhner,…</td><td>&quot;Germany, Czech Republic&quot;</td><td>&quot;September 23, 2021&quot;</td><td>2021</td><td>&quot;TV-MA&quot;</td><td>&quot;127 min&quot;</td><td>&quot;Dramas, International Movies&quot;</td><td>&quot;After most of her family is mu…</td></tr></tbody></table></div>"
      ],
      "text/plain": [
       "shape: (5, 12)\n",
       "┌─────────┬───────┬──────────────┬─────────────┬───┬────────┬──────────┬─────────────┬─────────────┐\n",
       "│ show_id ┆ type  ┆ title        ┆ director    ┆ … ┆ rating ┆ duration ┆ listed_in   ┆ description │\n",
       "│ ---     ┆ ---   ┆ ---          ┆ ---         ┆   ┆ ---    ┆ ---      ┆ ---         ┆ ---         │\n",
       "│ str     ┆ str   ┆ str          ┆ str         ┆   ┆ str    ┆ str      ┆ str         ┆ str         │\n",
       "╞═════════╪═══════╪══════════════╪═════════════╪═══╪════════╪══════════╪═════════════╪═════════════╡\n",
       "│ s1      ┆ Movie ┆ Dick Johnson ┆ Kirsten     ┆ … ┆ PG-13  ┆ 90 min   ┆ Documentari ┆ As her      │\n",
       "│         ┆       ┆ Is Dead      ┆ Johnson     ┆   ┆        ┆          ┆ es          ┆ father      │\n",
       "│         ┆       ┆              ┆             ┆   ┆        ┆          ┆             ┆ nears the   │\n",
       "│         ┆       ┆              ┆             ┆   ┆        ┆          ┆             ┆ end of…     │\n",
       "│ s7      ┆ Movie ┆ My Little    ┆ Robert      ┆ … ┆ PG     ┆ 91 min   ┆ Children &  ┆ Equestria's │\n",
       "│         ┆       ┆ Pony: A New  ┆ Cullen,     ┆   ┆        ┆          ┆ Family      ┆ divided.    │\n",
       "│         ┆       ┆ Generati…    ┆ José Luis   ┆   ┆        ┆          ┆ Movies      ┆ But a bri…  │\n",
       "│         ┆       ┆              ┆ Ucha        ┆   ┆        ┆          ┆             ┆             │\n",
       "│ s8      ┆ Movie ┆ Sankofa      ┆ Haile       ┆ … ┆ TV-MA  ┆ 125 min  ┆ Dramas,     ┆ On a photo  │\n",
       "│         ┆       ┆              ┆ Gerima      ┆   ┆        ┆          ┆ Independent ┆ shoot in    │\n",
       "│         ┆       ┆              ┆             ┆   ┆        ┆          ┆ Movies, In… ┆ Ghana, an … │\n",
       "│ s10     ┆ Movie ┆ The Starling ┆ Theodore    ┆ … ┆ PG-13  ┆ 104 min  ┆ Comedies,   ┆ A woman     │\n",
       "│         ┆       ┆              ┆ Melfi       ┆   ┆        ┆          ┆ Dramas      ┆ adjusting   │\n",
       "│         ┆       ┆              ┆             ┆   ┆        ┆          ┆             ┆ to life     │\n",
       "│         ┆       ┆              ┆             ┆   ┆        ┆          ┆             ┆ afte…       │\n",
       "│ s13     ┆ Movie ┆ Je Suis Karl ┆ Christian   ┆ … ┆ TV-MA  ┆ 127 min  ┆ Dramas, Int ┆ After most  │\n",
       "│         ┆       ┆              ┆ Schwochow   ┆   ┆        ┆          ┆ ernational  ┆ of her      │\n",
       "│         ┆       ┆              ┆             ┆   ┆        ┆          ┆ Movies      ┆ family is   │\n",
       "│         ┆       ┆              ┆             ┆   ┆        ┆          ┆             ┆ mu…         │\n",
       "└─────────┴───────┴──────────────┴─────────────┴───┴────────┴──────────┴─────────────┴─────────────┘"
      ]
     },
     "execution_count": 14,
     "metadata": {},
     "output_type": "execute_result"
    }
   ],
   "source": [
    "movies.head()"
   ]
  },
  {
   "cell_type": "code",
   "execution_count": 15,
   "id": "52dcdd14-05fa-42ec-ad59-9a6359ce9c61",
   "metadata": {},
   "outputs": [
    {
     "data": {
      "text/html": [
       "<div><style>\n",
       ".dataframe > thead > tr,\n",
       ".dataframe > tbody > tr {\n",
       "  text-align: right;\n",
       "  white-space: pre-wrap;\n",
       "}\n",
       "</style>\n",
       "<small>shape: (14, 2)</small><table border=\"1\" class=\"dataframe\"><thead><tr><th>rating</th><th>count</th></tr><tr><td>str</td><td>u32</td></tr></thead><tbody><tr><td>&quot;R&quot;</td><td>797</td></tr><tr><td>&quot;TV-Y&quot;</td><td>131</td></tr><tr><td>&quot;PG-13&quot;</td><td>490</td></tr><tr><td>&quot;G&quot;</td><td>41</td></tr><tr><td>&quot;UR&quot;</td><td>3</td></tr><tr><td>&hellip;</td><td>&hellip;</td></tr><tr><td>&quot;NR&quot;</td><td>75</td></tr><tr><td>&quot;TV-PG&quot;</td><td>540</td></tr><tr><td>&quot;TV-Y7&quot;</td><td>139</td></tr><tr><td>&quot;NC-17&quot;</td><td>3</td></tr><tr><td>&quot;TV-14&quot;</td><td>1427</td></tr></tbody></table></div>"
      ],
      "text/plain": [
       "shape: (14, 2)\n",
       "┌────────┬───────┐\n",
       "│ rating ┆ count │\n",
       "│ ---    ┆ ---   │\n",
       "│ str    ┆ u32   │\n",
       "╞════════╪═══════╡\n",
       "│ R      ┆ 797   │\n",
       "│ TV-Y   ┆ 131   │\n",
       "│ PG-13  ┆ 490   │\n",
       "│ G      ┆ 41    │\n",
       "│ UR     ┆ 3     │\n",
       "│ …      ┆ …     │\n",
       "│ NR     ┆ 75    │\n",
       "│ TV-PG  ┆ 540   │\n",
       "│ TV-Y7  ┆ 139   │\n",
       "│ NC-17  ┆ 3     │\n",
       "│ TV-14  ┆ 1427  │\n",
       "└────────┴───────┘"
      ]
     },
     "execution_count": 15,
     "metadata": {},
     "output_type": "execute_result"
    }
   ],
   "source": [
    "movies[\"rating\"].value_counts()"
   ]
  },
  {
   "cell_type": "markdown",
   "id": "a46a56e4",
   "metadata": {},
   "source": [
    "**Years and ratings**  \n",
    "We can see that the more mature rated movies (NC-17, R, TV-MA) were, on average, released in the 2010s and after, whereas G and PG rated movies were released, on average, earlier. "
   ]
  },
  {
   "cell_type": "code",
   "execution_count": 16,
   "id": "48aeed40-763c-4901-bf9b-cb5a55427a99",
   "metadata": {},
   "outputs": [],
   "source": [
    "years_and_ratings = movies.group_by(\"rating\").agg([pl.mean(\"release_year\")])"
   ]
  },
  {
   "cell_type": "code",
   "execution_count": 17,
   "id": "1c533ae4-a2af-4d1a-8986-6a0b27433233",
   "metadata": {},
   "outputs": [
    {
     "data": {
      "text/html": [
       "<div><style>\n",
       ".dataframe > thead > tr,\n",
       ".dataframe > tbody > tr {\n",
       "  text-align: right;\n",
       "  white-space: pre-wrap;\n",
       "}\n",
       "</style>\n",
       "<small>shape: (14, 2)</small><table border=\"1\" class=\"dataframe\"><thead><tr><th>rating</th><th>release_year</th></tr><tr><td>str</td><td>f64</td></tr></thead><tbody><tr><td>&quot;TV-PG&quot;</td><td>2012.524074</td></tr><tr><td>&quot;PG-13&quot;</td><td>2009.314286</td></tr><tr><td>&quot;NR&quot;</td><td>2010.866667</td></tr><tr><td>&quot;NC-17&quot;</td><td>2015.0</td></tr><tr><td>&quot;TV-G&quot;</td><td>2016.396825</td></tr><tr><td>&hellip;</td><td>&hellip;</td></tr><tr><td>&quot;TV-MA&quot;</td><td>2015.979631</td></tr><tr><td>&quot;R&quot;</td><td>2010.459222</td></tr><tr><td>&quot;PG&quot;</td><td>2008.428571</td></tr><tr><td>&quot;TV-Y&quot;</td><td>2017.320611</td></tr><tr><td>&quot;TV-Y7&quot;</td><td>2015.647482</td></tr></tbody></table></div>"
      ],
      "text/plain": [
       "shape: (14, 2)\n",
       "┌────────┬──────────────┐\n",
       "│ rating ┆ release_year │\n",
       "│ ---    ┆ ---          │\n",
       "│ str    ┆ f64          │\n",
       "╞════════╪══════════════╡\n",
       "│ TV-PG  ┆ 2012.524074  │\n",
       "│ PG-13  ┆ 2009.314286  │\n",
       "│ NR     ┆ 2010.866667  │\n",
       "│ NC-17  ┆ 2015.0       │\n",
       "│ TV-G   ┆ 2016.396825  │\n",
       "│ …      ┆ …            │\n",
       "│ TV-MA  ┆ 2015.979631  │\n",
       "│ R      ┆ 2010.459222  │\n",
       "│ PG     ┆ 2008.428571  │\n",
       "│ TV-Y   ┆ 2017.320611  │\n",
       "│ TV-Y7  ┆ 2015.647482  │\n",
       "└────────┴──────────────┘"
      ]
     },
     "execution_count": 17,
     "metadata": {},
     "output_type": "execute_result"
    }
   ],
   "source": [
    "years_and_ratings"
   ]
  },
  {
   "cell_type": "markdown",
   "id": "a73fab21",
   "metadata": {},
   "source": [
    "I created a table which counts the number of movies released by rating in each year and plotted it in a stacked bar chart. Through this graph, we can see that TV-MA and TV-14 ratings take up a large portion of the movies released as we move later in the 2000s and especially by 2015.  "
   ]
  },
  {
   "cell_type": "code",
   "execution_count": 18,
   "id": "527f312f-2dc8-4c41-b9a8-6cf3847a038d",
   "metadata": {},
   "outputs": [],
   "source": [
    "movie_years_rates = (\n",
    "    movies.group_by([\"release_year\", \"rating\"])\n",
    "    .agg(pl.len().alias(\"count\"))\n",
    "    .pivot(index=\"release_year\", on=\"rating\", values=\"count\")\n",
    "    .fill_null(0)  # Fill missing values with 0\n",
    ")"
   ]
  },
  {
   "cell_type": "code",
   "execution_count": 19,
   "id": "084fe155-b146-43c3-b312-5420911e17d5",
   "metadata": {},
   "outputs": [
    {
     "data": {
      "text/html": [
       "<div><style>\n",
       ".dataframe > thead > tr,\n",
       ".dataframe > tbody > tr {\n",
       "  text-align: right;\n",
       "  white-space: pre-wrap;\n",
       "}\n",
       "</style>\n",
       "<small>shape: (73, 15)</small><table border=\"1\" class=\"dataframe\"><thead><tr><th>release_year</th><th>TV-G</th><th>PG</th><th>G</th><th>TV-PG</th><th>TV-Y7-FV</th><th>TV-14</th><th>NC-17</th><th>TV-MA</th><th>R</th><th>PG-13</th><th>TV-Y</th><th>NR</th><th>TV-Y7</th><th>UR</th></tr><tr><td>i64</td><td>u32</td><td>u32</td><td>u32</td><td>u32</td><td>u32</td><td>u32</td><td>u32</td><td>u32</td><td>u32</td><td>u32</td><td>u32</td><td>u32</td><td>u32</td><td>u32</td></tr></thead><tbody><tr><td>2021</td><td>9</td><td>11</td><td>0</td><td>20</td><td>0</td><td>73</td><td>0</td><td>110</td><td>21</td><td>14</td><td>6</td><td>0</td><td>13</td><td>0</td></tr><tr><td>2008</td><td>1</td><td>10</td><td>0</td><td>6</td><td>0</td><td>29</td><td>0</td><td>20</td><td>19</td><td>24</td><td>1</td><td>0</td><td>2</td><td>1</td></tr><tr><td>1995</td><td>0</td><td>2</td><td>1</td><td>2</td><td>0</td><td>4</td><td>0</td><td>0</td><td>4</td><td>10</td><td>0</td><td>0</td><td>0</td><td>0</td></tr><tr><td>2019</td><td>15</td><td>12</td><td>1</td><td>62</td><td>0</td><td>160</td><td>0</td><td>286</td><td>39</td><td>19</td><td>25</td><td>0</td><td>14</td><td>0</td></tr><tr><td>2018</td><td>18</td><td>31</td><td>2</td><td>71</td><td>1</td><td>176</td><td>1</td><td>358</td><td>52</td><td>30</td><td>13</td><td>1</td><td>13</td><td>0</td></tr><tr><td>&hellip;</td><td>&hellip;</td><td>&hellip;</td><td>&hellip;</td><td>&hellip;</td><td>&hellip;</td><td>&hellip;</td><td>&hellip;</td><td>&hellip;</td><td>&hellip;</td><td>&hellip;</td><td>&hellip;</td><td>&hellip;</td><td>&hellip;</td><td>&hellip;</td></tr><tr><td>1987</td><td>0</td><td>0</td><td>0</td><td>1</td><td>0</td><td>1</td><td>0</td><td>1</td><td>2</td><td>2</td><td>0</td><td>1</td><td>0</td><td>0</td></tr><tr><td>1968</td><td>0</td><td>0</td><td>1</td><td>0</td><td>0</td><td>0</td><td>0</td><td>0</td><td>1</td><td>1</td><td>0</td><td>0</td><td>0</td><td>0</td></tr><tr><td>1980</td><td>0</td><td>1</td><td>0</td><td>1</td><td>0</td><td>4</td><td>0</td><td>0</td><td>5</td><td>0</td><td>0</td><td>0</td><td>0</td><td>0</td></tr><tr><td>1942</td><td>0</td><td>0</td><td>0</td><td>0</td><td>0</td><td>2</td><td>0</td><td>0</td><td>0</td><td>0</td><td>0</td><td>0</td><td>0</td><td>0</td></tr><tr><td>1963</td><td>0</td><td>0</td><td>0</td><td>0</td><td>0</td><td>0</td><td>0</td><td>1</td><td>0</td><td>0</td><td>0</td><td>0</td><td>0</td><td>0</td></tr></tbody></table></div>"
      ],
      "text/plain": [
       "shape: (73, 15)\n",
       "┌──────────────┬──────┬─────┬─────┬───┬──────┬─────┬───────┬─────┐\n",
       "│ release_year ┆ TV-G ┆ PG  ┆ G   ┆ … ┆ TV-Y ┆ NR  ┆ TV-Y7 ┆ UR  │\n",
       "│ ---          ┆ ---  ┆ --- ┆ --- ┆   ┆ ---  ┆ --- ┆ ---   ┆ --- │\n",
       "│ i64          ┆ u32  ┆ u32 ┆ u32 ┆   ┆ u32  ┆ u32 ┆ u32   ┆ u32 │\n",
       "╞══════════════╪══════╪═════╪═════╪═══╪══════╪═════╪═══════╪═════╡\n",
       "│ 2021         ┆ 9    ┆ 11  ┆ 0   ┆ … ┆ 6    ┆ 0   ┆ 13    ┆ 0   │\n",
       "│ 2008         ┆ 1    ┆ 10  ┆ 0   ┆ … ┆ 1    ┆ 0   ┆ 2     ┆ 1   │\n",
       "│ 1995         ┆ 0    ┆ 2   ┆ 1   ┆ … ┆ 0    ┆ 0   ┆ 0     ┆ 0   │\n",
       "│ 2019         ┆ 15   ┆ 12  ┆ 1   ┆ … ┆ 25   ┆ 0   ┆ 14    ┆ 0   │\n",
       "│ 2018         ┆ 18   ┆ 31  ┆ 2   ┆ … ┆ 13   ┆ 1   ┆ 13    ┆ 0   │\n",
       "│ …            ┆ …    ┆ …   ┆ …   ┆ … ┆ …    ┆ …   ┆ …     ┆ …   │\n",
       "│ 1987         ┆ 0    ┆ 0   ┆ 0   ┆ … ┆ 0    ┆ 1   ┆ 0     ┆ 0   │\n",
       "│ 1968         ┆ 0    ┆ 0   ┆ 1   ┆ … ┆ 0    ┆ 0   ┆ 0     ┆ 0   │\n",
       "│ 1980         ┆ 0    ┆ 1   ┆ 0   ┆ … ┆ 0    ┆ 0   ┆ 0     ┆ 0   │\n",
       "│ 1942         ┆ 0    ┆ 0   ┆ 0   ┆ … ┆ 0    ┆ 0   ┆ 0     ┆ 0   │\n",
       "│ 1963         ┆ 0    ┆ 0   ┆ 0   ┆ … ┆ 0    ┆ 0   ┆ 0     ┆ 0   │\n",
       "└──────────────┴──────┴─────┴─────┴───┴──────┴─────┴───────┴─────┘"
      ]
     },
     "execution_count": 19,
     "metadata": {},
     "output_type": "execute_result"
    }
   ],
   "source": [
    "movie_years_rates"
   ]
  },
  {
   "cell_type": "code",
   "execution_count": 20,
   "id": "01c93242-7800-441a-8811-5207f681626d",
   "metadata": {},
   "outputs": [
    {
     "name": "stdout",
     "output_type": "stream",
     "text": [
      "73\n",
      "4 None\n",
      "73\n",
      "2 None\n",
      "73\n",
      "1 None\n",
      "73\n",
      "5 None\n",
      "73\n",
      "8 None\n",
      "73\n",
      "5 None\n",
      "73\n",
      "5 None\n",
      "73\n",
      "5 None\n",
      "73\n",
      "1 None\n",
      "73\n",
      "5 None\n",
      "73\n",
      "4 None\n",
      "73\n",
      "2 None\n",
      "73\n",
      "5 None\n",
      "73\n",
      "2 None\n"
     ]
    },
    {
     "data": {
      "image/png": "[encoded data removed]",
      "text/plain": [
       "<Figure size 1000x600 with 1 Axes>"
      ]
     },
     "metadata": {},
     "output_type": "display_data"
    }
   ],
   "source": [
    "release_years = movie_years_rates[\"release_year\"].to_numpy()\n",
    "ratings = movie_years_rates.columns[1:]  # Skip the first column ('release_year')\n",
    "\n",
    "# Convert Polars DataFrame to numpy array (counts of each rating)\n",
    "movie_numpy = movie_years_rates.drop(\"release_year\").to_numpy()\n",
    "\n",
    "# Plotting the stacked bar chart\n",
    "fig, ax = plt.subplots(figsize=(10, 6))\n",
    "bottom = None  # To stack the bars\n",
    "\n",
    "# Loop through each rating and plot stacked bars\n",
    "for i, rating in enumerate(ratings):\n",
    "    counts = movie_numpy[:, i]  # Get the count for each rating\n",
    "    print(len(rating), print(len(counts)))\n",
    "\n",
    "    ax.bar(release_years, counts, bottom=bottom, label=rating)\n",
    "    if bottom is None:\n",
    "        bottom = counts  # Initialize bottom with the first bar\n",
    "    else:\n",
    "        bottom += counts  # Stack bars\n",
    "\n",
    "# Add labels and title\n",
    "ax.set_xlabel(\"Year\")\n",
    "ax.set_ylabel(\"Count\")\n",
    "ax.set_title(\"Movie Ratings over the Years\")\n",
    "ax.legend(title=\"Rating\")\n",
    "plt.xticks(rotation=45)\n",
    "\n",
    "# Show the plot\n",
    "plt.tight_layout()\n",
    "plt.show()"
   ]
  },
  {
   "cell_type": "markdown",
   "id": "c2ee554d",
   "metadata": {},
   "source": [
    "**TV Shows**  \n",
    "I decided to do the same with TV Shows to see if trends were similar. "
   ]
  },
  {
   "cell_type": "code",
   "execution_count": 21,
   "id": "d6a0e9a6-7c9f-4a5b-9ded-6709336015de",
   "metadata": {},
   "outputs": [],
   "source": [
    "shows = data.filter(pl.col(\"type\") == \"TV Show\")"
   ]
  },
  {
   "cell_type": "code",
   "execution_count": 22,
   "id": "c720bc5b-3b5e-4ec7-b598-906999e185c3",
   "metadata": {},
   "outputs": [
    {
     "data": {
      "text/html": [
       "<div><style>\n",
       ".dataframe > thead > tr,\n",
       ".dataframe > tbody > tr {\n",
       "  text-align: right;\n",
       "  white-space: pre-wrap;\n",
       "}\n",
       "</style>\n",
       "<small>shape: (5, 12)</small><table border=\"1\" class=\"dataframe\"><thead><tr><th>show_id</th><th>type</th><th>title</th><th>director</th><th>cast</th><th>country</th><th>date_added</th><th>release_year</th><th>rating</th><th>duration</th><th>listed_in</th><th>description</th></tr><tr><td>str</td><td>str</td><td>str</td><td>str</td><td>str</td><td>str</td><td>str</td><td>i64</td><td>str</td><td>str</td><td>str</td><td>str</td></tr></thead><tbody><tr><td>&quot;s2&quot;</td><td>&quot;TV Show&quot;</td><td>&quot;Blood &amp; Water&quot;</td><td>null</td><td>&quot;Ama Qamata, Khosi Ngema, Gail …</td><td>&quot;South Africa&quot;</td><td>&quot;September 24, 2021&quot;</td><td>2021</td><td>&quot;TV-MA&quot;</td><td>&quot;2 Seasons&quot;</td><td>&quot;International TV Shows, TV Dra…</td><td>&quot;After crossing paths at a part…</td></tr><tr><td>&quot;s3&quot;</td><td>&quot;TV Show&quot;</td><td>&quot;Ganglands&quot;</td><td>&quot;Julien Leclercq&quot;</td><td>&quot;Sami Bouajila, Tracy Gotoas, S…</td><td>null</td><td>&quot;September 24, 2021&quot;</td><td>2021</td><td>&quot;TV-MA&quot;</td><td>&quot;1 Season&quot;</td><td>&quot;Crime TV Shows, International …</td><td>&quot;To protect his family from a p…</td></tr><tr><td>&quot;s4&quot;</td><td>&quot;TV Show&quot;</td><td>&quot;Jailbirds New Orleans&quot;</td><td>null</td><td>null</td><td>null</td><td>&quot;September 24, 2021&quot;</td><td>2021</td><td>&quot;TV-MA&quot;</td><td>&quot;1 Season&quot;</td><td>&quot;Docuseries, Reality TV&quot;</td><td>&quot;Feuds, flirtations and toilet …</td></tr><tr><td>&quot;s5&quot;</td><td>&quot;TV Show&quot;</td><td>&quot;Kota Factory&quot;</td><td>null</td><td>&quot;Mayur More, Jitendra Kumar, Ra…</td><td>&quot;India&quot;</td><td>&quot;September 24, 2021&quot;</td><td>2021</td><td>&quot;TV-MA&quot;</td><td>&quot;2 Seasons&quot;</td><td>&quot;International TV Shows, Romant…</td><td>&quot;In a city of coaching centers …</td></tr><tr><td>&quot;s6&quot;</td><td>&quot;TV Show&quot;</td><td>&quot;Midnight Mass&quot;</td><td>&quot;Mike Flanagan&quot;</td><td>&quot;Kate Siegel, Zach Gilford, Ham…</td><td>null</td><td>&quot;September 24, 2021&quot;</td><td>2021</td><td>&quot;TV-MA&quot;</td><td>&quot;1 Season&quot;</td><td>&quot;TV Dramas, TV Horror, TV Myste…</td><td>&quot;The arrival of a charismatic y…</td></tr></tbody></table></div>"
      ],
      "text/plain": [
       "shape: (5, 12)\n",
       "┌─────────┬─────────┬─────────────┬─────────────┬───┬────────┬───────────┬────────────┬────────────┐\n",
       "│ show_id ┆ type    ┆ title       ┆ director    ┆ … ┆ rating ┆ duration  ┆ listed_in  ┆ descriptio │\n",
       "│ ---     ┆ ---     ┆ ---         ┆ ---         ┆   ┆ ---    ┆ ---       ┆ ---        ┆ n          │\n",
       "│ str     ┆ str     ┆ str         ┆ str         ┆   ┆ str    ┆ str       ┆ str        ┆ ---        │\n",
       "│         ┆         ┆             ┆             ┆   ┆        ┆           ┆            ┆ str        │\n",
       "╞═════════╪═════════╪═════════════╪═════════════╪═══╪════════╪═══════════╪════════════╪════════════╡\n",
       "│ s2      ┆ TV Show ┆ Blood &     ┆ null        ┆ … ┆ TV-MA  ┆ 2 Seasons ┆ Internatio ┆ After      │\n",
       "│         ┆         ┆ Water       ┆             ┆   ┆        ┆           ┆ nal TV     ┆ crossing   │\n",
       "│         ┆         ┆             ┆             ┆   ┆        ┆           ┆ Shows, TV  ┆ paths at a │\n",
       "│         ┆         ┆             ┆             ┆   ┆        ┆           ┆ Dra…       ┆ part…      │\n",
       "│ s3      ┆ TV Show ┆ Ganglands   ┆ Julien      ┆ … ┆ TV-MA  ┆ 1 Season  ┆ Crime TV   ┆ To protect │\n",
       "│         ┆         ┆             ┆ Leclercq    ┆   ┆        ┆           ┆ Shows, Int ┆ his family │\n",
       "│         ┆         ┆             ┆             ┆   ┆        ┆           ┆ ernational ┆ from a p…  │\n",
       "│         ┆         ┆             ┆             ┆   ┆        ┆           ┆ …          ┆            │\n",
       "│ s4      ┆ TV Show ┆ Jailbirds   ┆ null        ┆ … ┆ TV-MA  ┆ 1 Season  ┆ Docuseries ┆ Feuds, fli │\n",
       "│         ┆         ┆ New Orleans ┆             ┆   ┆        ┆           ┆ , Reality  ┆ rtations   │\n",
       "│         ┆         ┆             ┆             ┆   ┆        ┆           ┆ TV         ┆ and toilet │\n",
       "│         ┆         ┆             ┆             ┆   ┆        ┆           ┆            ┆ …          │\n",
       "│ s5      ┆ TV Show ┆ Kota        ┆ null        ┆ … ┆ TV-MA  ┆ 2 Seasons ┆ Internatio ┆ In a city  │\n",
       "│         ┆         ┆ Factory     ┆             ┆   ┆        ┆           ┆ nal TV     ┆ of         │\n",
       "│         ┆         ┆             ┆             ┆   ┆        ┆           ┆ Shows,     ┆ coaching   │\n",
       "│         ┆         ┆             ┆             ┆   ┆        ┆           ┆ Romant…    ┆ centers …  │\n",
       "│ s6      ┆ TV Show ┆ Midnight    ┆ Mike        ┆ … ┆ TV-MA  ┆ 1 Season  ┆ TV Dramas, ┆ The        │\n",
       "│         ┆         ┆ Mass        ┆ Flanagan    ┆   ┆        ┆           ┆ TV Horror, ┆ arrival of │\n",
       "│         ┆         ┆             ┆             ┆   ┆        ┆           ┆ TV Myste…  ┆ a charisma │\n",
       "│         ┆         ┆             ┆             ┆   ┆        ┆           ┆            ┆ tic y…     │\n",
       "└─────────┴─────────┴─────────────┴─────────────┴───┴────────┴───────────┴────────────┴────────────┘"
      ]
     },
     "execution_count": 22,
     "metadata": {},
     "output_type": "execute_result"
    }
   ],
   "source": [
    "shows.head()"
   ]
  },
  {
   "cell_type": "markdown",
   "id": "25a3539a",
   "metadata": {},
   "source": [
    "**Years and Ratings**  \n",
    "We can see that the TV shows' mean release years were all in the 2010s, likely reflecting the massive surge in Netflix and its streaming shows. The rating of TV-MA average is 2017 - 2018 which is later than most other ratings."
   ]
  },
  {
   "cell_type": "code",
   "execution_count": 23,
   "id": "eba4705e",
   "metadata": {},
   "outputs": [],
   "source": [
    "tv_years_and_ratings = shows.group_by(\"rating\").agg([pl.mean(\"release_year\")])"
   ]
  },
  {
   "cell_type": "code",
   "execution_count": 24,
   "id": "59744d55",
   "metadata": {},
   "outputs": [
    {
     "data": {
      "text/html": [
       "<div><style>\n",
       ".dataframe > thead > tr,\n",
       ".dataframe > tbody > tr {\n",
       "  text-align: right;\n",
       "  white-space: pre-wrap;\n",
       "}\n",
       "</style>\n",
       "<small>shape: (9, 2)</small><table border=\"1\" class=\"dataframe\"><thead><tr><th>rating</th><th>release_year</th></tr><tr><td>str</td><td>f64</td></tr></thead><tbody><tr><td>&quot;TV-MA&quot;</td><td>2017.889956</td></tr><tr><td>&quot;TV-Y7&quot;</td><td>2015.410256</td></tr><tr><td>&quot;TV-Y7-FV&quot;</td><td>2014.0</td></tr><tr><td>&quot;TV-G&quot;</td><td>2014.87234</td></tr><tr><td>&quot;TV-14&quot;</td><td>2015.698499</td></tr><tr><td>&quot;R&quot;</td><td>2015.5</td></tr><tr><td>&quot;TV-Y&quot;</td><td>2017.039773</td></tr><tr><td>&quot;TV-PG&quot;</td><td>2015.210526</td></tr><tr><td>&quot;NR&quot;</td><td>2011.6</td></tr></tbody></table></div>"
      ],
      "text/plain": [
       "shape: (9, 2)\n",
       "┌──────────┬──────────────┐\n",
       "│ rating   ┆ release_year │\n",
       "│ ---      ┆ ---          │\n",
       "│ str      ┆ f64          │\n",
       "╞══════════╪══════════════╡\n",
       "│ TV-MA    ┆ 2017.889956  │\n",
       "│ TV-Y7    ┆ 2015.410256  │\n",
       "│ TV-Y7-FV ┆ 2014.0       │\n",
       "│ TV-G     ┆ 2014.87234   │\n",
       "│ TV-14    ┆ 2015.698499  │\n",
       "│ R        ┆ 2015.5       │\n",
       "│ TV-Y     ┆ 2017.039773  │\n",
       "│ TV-PG    ┆ 2015.210526  │\n",
       "│ NR       ┆ 2011.6       │\n",
       "└──────────┴──────────────┘"
      ]
     },
     "execution_count": 24,
     "metadata": {},
     "output_type": "execute_result"
    }
   ],
   "source": [
    "tv_years_and_ratings"
   ]
  },
  {
   "cell_type": "code",
   "execution_count": 25,
   "id": "23e83a1b-0acf-4d66-9602-eb75369efe4c",
   "metadata": {},
   "outputs": [
    {
     "name": "stderr",
     "output_type": "stream",
     "text": [
      "C:\\Users\\jenny\\AppData\\Local\\Temp\\ipykernel_19560\\1384884916.py:3: DeprecationWarning: `pl.count()` is deprecated. Please use `pl.len()` instead.\n",
      "  .agg(pl.count().alias(\"count\"))\n",
      "C:\\Users\\jenny\\AppData\\Local\\Temp\\ipykernel_19560\\1384884916.py:4: DeprecationWarning: The argument `columns` for `DataFrame.pivot` is deprecated. It has been renamed to `on`.\n",
      "  .pivot(index=\"release_year\", columns=\"rating\", values=\"count\")\n"
     ]
    }
   ],
   "source": [
    "tv_years_rates = (\n",
    "    shows.group_by([\"release_year\", \"rating\"])\n",
    "    .agg(pl.count().alias(\"count\"))\n",
    "    .pivot(index=\"release_year\", columns=\"rating\", values=\"count\")\n",
    "    .fill_null(0)  # Fill missing values with 0\n",
    ")"
   ]
  },
  {
   "cell_type": "code",
   "execution_count": 26,
   "id": "c7298d7f",
   "metadata": {},
   "outputs": [
    {
     "data": {
      "text/html": [
       "<div><style>\n",
       ".dataframe > thead > tr,\n",
       ".dataframe > tbody > tr {\n",
       "  text-align: right;\n",
       "  white-space: pre-wrap;\n",
       "}\n",
       "</style>\n",
       "<small>shape: (46, 10)</small><table border=\"1\" class=\"dataframe\"><thead><tr><th>release_year</th><th>TV-Y7</th><th>TV-G</th><th>TV-14</th><th>TV-Y</th><th>TV-MA</th><th>TV-PG</th><th>TV-Y7-FV</th><th>NR</th><th>R</th></tr><tr><td>i64</td><td>u32</td><td>u32</td><td>u32</td><td>u32</td><td>u32</td><td>u32</td><td>u32</td><td>u32</td><td>u32</td></tr></thead><tbody><tr><td>2006</td><td>1</td><td>0</td><td>7</td><td>0</td><td>4</td><td>2</td><td>0</td><td>0</td><td>0</td></tr><tr><td>1993</td><td>1</td><td>1</td><td>0</td><td>0</td><td>1</td><td>1</td><td>0</td><td>0</td><td>0</td></tr><tr><td>2012</td><td>4</td><td>1</td><td>27</td><td>6</td><td>13</td><td>13</td><td>0</td><td>0</td><td>0</td></tr><tr><td>2015</td><td>10</td><td>5</td><td>57</td><td>10</td><td>49</td><td>28</td><td>0</td><td>1</td><td>1</td></tr><tr><td>2008</td><td>2</td><td>3</td><td>9</td><td>1</td><td>5</td><td>3</td><td>0</td><td>0</td><td>0</td></tr><tr><td>&hellip;</td><td>&hellip;</td><td>&hellip;</td><td>&hellip;</td><td>&hellip;</td><td>&hellip;</td><td>&hellip;</td><td>&hellip;</td><td>&hellip;</td><td>&hellip;</td></tr><tr><td>2000</td><td>2</td><td>0</td><td>0</td><td>0</td><td>0</td><td>2</td><td>0</td><td>0</td><td>0</td></tr><tr><td>1972</td><td>0</td><td>0</td><td>0</td><td>0</td><td>1</td><td>0</td><td>0</td><td>0</td><td>0</td></tr><tr><td>1963</td><td>0</td><td>0</td><td>1</td><td>0</td><td>0</td><td>0</td><td>0</td><td>0</td><td>0</td></tr><tr><td>1977</td><td>0</td><td>0</td><td>0</td><td>0</td><td>0</td><td>1</td><td>0</td><td>0</td><td>0</td></tr><tr><td>1986</td><td>0</td><td>0</td><td>2</td><td>0</td><td>0</td><td>0</td><td>0</td><td>0</td><td>0</td></tr></tbody></table></div>"
      ],
      "text/plain": [
       "shape: (46, 10)\n",
       "┌──────────────┬───────┬──────┬───────┬───┬───────┬──────────┬─────┬─────┐\n",
       "│ release_year ┆ TV-Y7 ┆ TV-G ┆ TV-14 ┆ … ┆ TV-PG ┆ TV-Y7-FV ┆ NR  ┆ R   │\n",
       "│ ---          ┆ ---   ┆ ---  ┆ ---   ┆   ┆ ---   ┆ ---      ┆ --- ┆ --- │\n",
       "│ i64          ┆ u32   ┆ u32  ┆ u32   ┆   ┆ u32   ┆ u32      ┆ u32 ┆ u32 │\n",
       "╞══════════════╪═══════╪══════╪═══════╪═══╪═══════╪══════════╪═════╪═════╡\n",
       "│ 2006         ┆ 1     ┆ 0    ┆ 7     ┆ … ┆ 2     ┆ 0        ┆ 0   ┆ 0   │\n",
       "│ 1993         ┆ 1     ┆ 1    ┆ 0     ┆ … ┆ 1     ┆ 0        ┆ 0   ┆ 0   │\n",
       "│ 2012         ┆ 4     ┆ 1    ┆ 27    ┆ … ┆ 13    ┆ 0        ┆ 0   ┆ 0   │\n",
       "│ 2015         ┆ 10    ┆ 5    ┆ 57    ┆ … ┆ 28    ┆ 0        ┆ 1   ┆ 1   │\n",
       "│ 2008         ┆ 2     ┆ 3    ┆ 9     ┆ … ┆ 3     ┆ 0        ┆ 0   ┆ 0   │\n",
       "│ …            ┆ …     ┆ …    ┆ …     ┆ … ┆ …     ┆ …        ┆ …   ┆ …   │\n",
       "│ 2000         ┆ 2     ┆ 0    ┆ 0     ┆ … ┆ 2     ┆ 0        ┆ 0   ┆ 0   │\n",
       "│ 1972         ┆ 0     ┆ 0    ┆ 0     ┆ … ┆ 0     ┆ 0        ┆ 0   ┆ 0   │\n",
       "│ 1963         ┆ 0     ┆ 0    ┆ 1     ┆ … ┆ 0     ┆ 0        ┆ 0   ┆ 0   │\n",
       "│ 1977         ┆ 0     ┆ 0    ┆ 0     ┆ … ┆ 1     ┆ 0        ┆ 0   ┆ 0   │\n",
       "│ 1986         ┆ 0     ┆ 0    ┆ 2     ┆ … ┆ 0     ┆ 0        ┆ 0   ┆ 0   │\n",
       "└──────────────┴───────┴──────┴───────┴───┴───────┴──────────┴─────┴─────┘"
      ]
     },
     "execution_count": 26,
     "metadata": {},
     "output_type": "execute_result"
    }
   ],
   "source": [
    "tv_years_rates"
   ]
  },
  {
   "cell_type": "markdown",
   "id": "357dff6c",
   "metadata": {},
   "source": [
    "Creating a similar stacked bar chart, we can see that TV-MA takes up a large portion of shows, especially after 2017, though most of the data is concentrated post-2010s anyways, so it is tough to see much of a trend before that. "
   ]
  },
  {
   "cell_type": "code",
   "execution_count": 27,
   "id": "c9731596-9728-493b-b1c1-034556da4e62",
   "metadata": {},
   "outputs": [
    {
     "data": {
      "image/png": "[encoded data removed]",
      "text/plain": [
       "<Figure size 1000x600 with 1 Axes>"
      ]
     },
     "metadata": {},
     "output_type": "display_data"
    }
   ],
   "source": [
    "tv_release_years = tv_years_rates[\"release_year\"].to_numpy()\n",
    "tv_ratings = tv_years_rates.columns[1:]  # Skip the first column ('release_year')\n",
    "\n",
    "# Convert Polars DataFrame to numpy array (counts of each rating)\n",
    "tv_numpy = tv_years_rates.drop(\"release_year\").to_numpy()\n",
    "\n",
    "# Plotting the stacked bar chart\n",
    "fig, ax = plt.subplots(figsize=(10, 6))\n",
    "bottom = None  # To stack the bars\n",
    "\n",
    "# Loop through each rating and plot stacked bars\n",
    "for i, rating in enumerate(tv_ratings):\n",
    "    counts = tv_numpy[:, i]  # Get the count for each rating\n",
    "    ax.bar(tv_release_years, counts, bottom=bottom, label=rating)\n",
    "    if bottom is None:\n",
    "        bottom = counts  # Initialize bottom with the first bar\n",
    "    else:\n",
    "        bottom += counts  # Stack bars\n",
    "\n",
    "# Add labels and title\n",
    "ax.set_xlabel(\"Year\")\n",
    "ax.set_ylabel(\"Count\")\n",
    "ax.set_title(\"Movie Ratings over the Years\")\n",
    "ax.legend(title=\"Rating\")\n",
    "plt.xticks(rotation=45)\n",
    "\n",
    "# Show the plot\n",
    "plt.tight_layout()\n",
    "plt.show()"
   ]
  },
  {
   "cell_type": "markdown",
   "id": "8d21ea7a",
   "metadata": {},
   "source": [
    "## Conclusion  \n",
    "  \n",
    "  I was interested in seeing if there was a trend in TV and movie maturity ratings over the years. Based on the data and graphs, it does seem that rated R and mature movies are taking up more of a portion of the content. However, some ratings, such as NC-17, were not introduced in the film industry until the late '90s. Additionally, the film industry has had controversy in regards to the inconsistency of content allowed in and between different movie ratings, e.g. the PG-13 movie rating is considered very broad and movie content vary greatly within PG-13 movies (source [Wikipedia](https://en.wikipedia.org/wiki/Motion_Picture_Association_film_rating_system)). Thus, it is possible that to err on the side of caution, especially with streaming services being so accessible ot children nowadays, that there is an inflation or 'over' count of mature ratings, explaining the seemingly large proportion of TV-MA content on Netflix. "
   ]
  }
 ],
 "metadata": {
  "kernelspec": {
   "display_name": "Python 3 (ipykernel)",
   "language": "python",
   "name": "python3"
  },
  "language_info": {
   "codemirror_mode": {
    "name": "ipython",
    "version": 3
   },
   "file_extension": ".py",
   "mimetype": "text/x-python",
   "name": "python",
   "nbconvert_exporter": "python",
   "pygments_lexer": "ipython3",
   "version": "3.12.5"
  }
 },
 "nbformat": 4,
 "nbformat_minor": 5
}
